{
 "cells": [
  {
   "cell_type": "markdown",
   "metadata": {},
   "source": [
    "B. naga dilip\n",
    "121810302032"
   ]
  },
  {
   "cell_type": "markdown",
   "metadata": {},
   "source": [
    "## project on match(ipl)"
   ]
  },
  {
   "cell_type": "markdown",
   "metadata": {},
   "source": [
    "## 1. display count of matches based on yearwise\n"
   ]
  },
  {
   "cell_type": "code",
   "execution_count": 14,
   "metadata": {},
   "outputs": [
    {
     "data": {
      "text/plain": [
       "2013    76\n",
       "2012    74\n",
       "2011    73\n",
       "2017    60\n",
       "2016    60\n",
       "2014    60\n",
       "2010    60\n",
       "2015    59\n",
       "2008    58\n",
       "2009    57\n",
       "Name: Season_Year, dtype: int64"
      ]
     },
     "execution_count": 14,
     "metadata": {},
     "output_type": "execute_result"
    }
   ],
   "source": [
    "import pandas as pd\n",
    "filepath = \"match.csv\"\n",
    "def readCsvData(filepath):\n",
    "    return pd.read_csv(filepath)\n",
    "df = readCsvData(filepath)\n",
    "df['Season_Year'].value_counts()"
   ]
  },
  {
   "cell_type": "markdown",
   "metadata": {},
   "source": [
    "## 2.plot a bar graph no of matches won by a team in year 2011"
   ]
  },
  {
   "cell_type": "code",
   "execution_count": 46,
   "metadata": {},
   "outputs": [
    {
     "data": {
      "image/png": "[encoded data removed]",
      "text/plain": [
       "<Figure size 432x288 with 1 Axes>"
      ]
     },
     "metadata": {
      "needs_background": "light"
     },
     "output_type": "display_data"
    }
   ],
   "source": [
    "import matplotlib.pyplot as plt\n",
    "(mi,csk,dd,kxip,rr,dc,rcb,kkr,ktk,pw) = (0,0,0,0,0,0,0,0,0,0)\n",
    "divisions = [\"MI\",\"CSk\",\"DD\",\"KXIP\",\"RR\",\"DC\",\"RCB\",\"KKR\",\"KTK\",\"PW\"]\n",
    "for i in range (175,248):\n",
    "    if df[\"match_winner\"][i] == \"Kolkata Knight Riders\":\n",
    "        kkr +=1\n",
    "    elif df[\"match_winner\"][i] == \"Mumbai Indians\":\n",
    "        mi +=1\n",
    "    elif df[\"match_winner\"][i] == \"Chennai Super Kings\":\n",
    "        csk +=1\n",
    "    elif df[\"match_winner\"][i] == \"Delhi Daredevils\":\n",
    "        dd +=1\n",
    "    elif df[\"match_winner\"][i] == \"Kings XI Punjab\":\n",
    "        kxip +=1\n",
    "    elif df[\"match_winner\"][i] == \"Rajasthan Royals\":\n",
    "        rr +=1\n",
    "    elif df[\"match_winner\"][i] == \"Deccan Chargers\":\n",
    "        dc +=1\n",
    "    elif df[\"match_winner\"][i] == \"Royal Challengers Bangalore\":\n",
    "        rcb +=1\n",
    "    elif df[\"match_winner\"][i] == \"Kochi Tuskers Kerala\":\n",
    "        ktk +=1\n",
    "    elif df[\"match_winner\"][i] == \"Pune Warriors\":\n",
    "        pw +=1\n",
    "\n",
    "count= [mi,csk,dd,kxip,rr,dc,rcb,kkr,ktk,pw]\n",
    "index = np.arange(len(a1))\n",
    "width = 0.70\n",
    "plt.bar(divisions,count,color=\"blue\",width=0.70)\n",
    "plt.show()"
   ]
  },
  {
   "cell_type": "markdown",
   "metadata": {},
   "source": [
    "## 3. man of match  count of each player in hyderabad"
   ]
  },
  {
   "cell_type": "code",
   "execution_count": 47,
   "metadata": {},
   "outputs": [
    {
     "name": "stdout",
     "output_type": "stream",
     "text": [
      "ManOfMatch count of each player in  Hyderabad stadium\n",
      "DA Warner            6\n",
      "DW Steyn             3\n",
      "YK Pathan            2\n",
      "GH Vihari            2\n",
      "A Mishra             2\n",
      "SK Raina             2\n",
      "V Sehwag             2\n",
      "G Gambhir            1\n",
      "V Kohli              1\n",
      "DJG Sammy            1\n",
      "MJ McClenaghan       1\n",
      "WP Saha              1\n",
      "Mandeep Singh        1\n",
      "SL Malinga           1\n",
      "UT Yadav             1\n",
      "B Kumar              1\n",
      "PC Valthaty          1\n",
      "AB Dinda             1\n",
      "Mustafizur Rahman    1\n",
      "R Vinay Kumar        1\n",
      "I Sharma             1\n",
      "CH Morris            1\n",
      "AT Rayudu            1\n",
      "SE Marsh             1\n",
      "SC Ganguly           1\n",
      "MR Marsh             1\n",
      "PA Patel             1\n",
      "DJ Bravo             1\n",
      "SK Trivedi           1\n",
      "Name: ManOfMach, dtype: int64\n"
     ]
    }
   ],
   "source": [
    "dp = df[df[\"City_Name\"] == \"Hyderabad\"]\n",
    "print(\"ManOfMatch count of each player in  Hyderabad stadium\")\n",
    "print(dp[\"ManOfMach\"].value_counts())\n"
   ]
  },
  {
   "cell_type": "code",
   "execution_count": null,
   "metadata": {},
   "outputs": [],
   "source": []
  },
  {
   "cell_type": "code",
   "execution_count": null,
   "metadata": {},
   "outputs": [],
   "source": []
  }
 ],
 "metadata": {
  "kernelspec": {
   "display_name": "Python 3",
   "language": "python",
   "name": "python3"
  },
  "language_info": {
   "codemirror_mode": {
    "name": "ipython",
    "version": 3
   },
   "file_extension": ".py",
   "mimetype": "text/x-python",
   "name": "python",
   "nbconvert_exporter": "python",
   "pygments_lexer": "ipython3",
   "version": "3.7.3"
  }
 },
 "nbformat": 4,
 "nbformat_minor": 2
}
